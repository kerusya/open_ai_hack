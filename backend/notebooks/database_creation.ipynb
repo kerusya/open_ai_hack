{
 "cells": [
  {
   "cell_type": "code",
   "execution_count": 1,
   "id": "505fcc5a",
   "metadata": {},
   "outputs": [],
   "source": [
    "import sqlite3\n",
    "import pandas as pd\n",
    "import csv\n",
    "import numpy as np"
   ]
  },
  {
   "cell_type": "code",
   "execution_count": null,
   "id": "e0164062",
   "metadata": {},
   "outputs": [],
   "source": []
  },
  {
   "cell_type": "code",
   "execution_count": 25,
   "id": "5927b53c",
   "metadata": {},
   "outputs": [],
   "source": [
    "conn = sqlite3.connect('fin_db.db')\n",
    "cursor = conn.cursor()\n"
   ]
  },
  {
   "cell_type": "code",
   "execution_count": 26,
   "id": "b2fee80c",
   "metadata": {},
   "outputs": [],
   "source": [
    "# cursor.execute('''DROP TABLE fin_db\n",
    "#                 ''')"
   ]
  },
  {
   "cell_type": "code",
   "execution_count": 27,
   "id": "405c2035",
   "metadata": {},
   "outputs": [
    {
     "data": {
      "text/plain": [
       "<sqlite3.Cursor at 0x11e490ac0>"
      ]
     },
     "execution_count": 27,
     "metadata": {},
     "output_type": "execute_result"
    }
   ],
   "source": [
    "cursor.execute('''CREATE TABLE IF NOT EXISTS fin_db (\n",
    "                    id INTEGER,\n",
    "                    text TEXT,\n",
    "                    embeding INTEGER\n",
    "                )''')"
   ]
  },
  {
   "cell_type": "code",
   "execution_count": 28,
   "id": "4f8fe694",
   "metadata": {},
   "outputs": [],
   "source": [
    "df = pd.read_excel('../../out1.xlsx', names = ['Sentences', 'Embbeding'])"
   ]
  },
  {
   "cell_type": "code",
   "execution_count": 29,
   "id": "43e8ded7",
   "metadata": {},
   "outputs": [],
   "source": [
    "df['index'] = df.index + 1"
   ]
  },
  {
   "cell_type": "code",
   "execution_count": 30,
   "id": "c0431688",
   "metadata": {},
   "outputs": [],
   "source": [
    "df[['index','Embbeding', 'Sentences']].to_csv('out1.csv', index = False)"
   ]
  },
  {
   "cell_type": "code",
   "execution_count": 31,
   "id": "4770ad28",
   "metadata": {},
   "outputs": [],
   "source": [
    "with open('out1.csv', 'r') as file:\n",
    "    csv_data = csv.reader(file)\n",
    "    next(csv_data)  # Пропуск заголовков столбцов\n",
    "    cursor.executemany('INSERT INTO fin_db VALUES (?, ?, ?)', csv_data)"
   ]
  },
  {
   "cell_type": "code",
   "execution_count": 35,
   "id": "5c8dc0a1",
   "metadata": {},
   "outputs": [],
   "source": [
    "conn.commit()\n",
    "conn.close()"
   ]
  },
  {
   "cell_type": "code",
   "execution_count": 59,
   "id": "0a9c018f",
   "metadata": {},
   "outputs": [],
   "source": [
    "conn = sqlite3.connect('fin_db.db')\n",
    "cursor = conn.cursor()"
   ]
  },
  {
   "cell_type": "code",
   "execution_count": 60,
   "id": "a67b9dc9",
   "metadata": {},
   "outputs": [
    {
     "ename": "OperationalError",
     "evalue": "no such table: fin_db",
     "output_type": "error",
     "traceback": [
      "\u001b[0;31m---------------------------------------------------------------------------\u001b[0m",
      "\u001b[0;31mOperationalError\u001b[0m                          Traceback (most recent call last)",
      "Cell \u001b[0;32mIn[60], line 1\u001b[0m\n\u001b[0;32m----> 1\u001b[0m \u001b[43mcursor\u001b[49m\u001b[38;5;241;43m.\u001b[39;49m\u001b[43mexecute\u001b[49m\u001b[43m(\u001b[49m\u001b[38;5;124;43m\"\u001b[39;49m\u001b[38;5;124;43mSELECT * FROM fin_db\u001b[39;49m\u001b[38;5;124;43m\"\u001b[39;49m\u001b[43m)\u001b[49m\n\u001b[1;32m      2\u001b[0m rows \u001b[38;5;241m=\u001b[39m cursor\u001b[38;5;241m.\u001b[39mfetchall()\n",
      "\u001b[0;31mOperationalError\u001b[0m: no such table: fin_db"
     ]
    }
   ],
   "source": [
    "cursor.execute(\"SELECT * FROM fin_db\")\n",
    "rows = cursor.fetchall()"
   ]
  },
  {
   "cell_type": "code",
   "execution_count": 39,
   "id": "c95b01a5",
   "metadata": {},
   "outputs": [],
   "source": [
    "input_vector = [float(x) for x in rows[0][1].split(',')]"
   ]
  },
  {
   "cell_type": "code",
   "execution_count": 40,
   "id": "ef47fc99",
   "metadata": {},
   "outputs": [],
   "source": [
    "# vectors = [np.frombuffer(vector[0]) for vector in vectors]"
   ]
  },
  {
   "cell_type": "code",
   "execution_count": 41,
   "id": "7fa5ed39",
   "metadata": {},
   "outputs": [],
   "source": [
    "from scipy.spatial.distance import cosine"
   ]
  },
  {
   "cell_type": "code",
   "execution_count": 50,
   "id": "e00c3fdc",
   "metadata": {},
   "outputs": [],
   "source": [
    "# Расчет косинусного расстояния и сохранение результатов\n",
    "distances = []\n",
    "for row in rows:\n",
    "    vector = [float(x) for x in row[1].split(',')]\n",
    "    distance = cosine(input_vector, vector)\n",
    "    distances.append((distance, row[1], row[0],row[2]))  # Замените на соответствующий столбец с другими данными\n",
    "\n",
    "# Сортировка результатов по возрастанию расстояния\n",
    "distances.sort(key=lambda x: x[0])\n",
    "\n",
    "# Вывод 10 самых близких расстояний и соответствующих данных\n",
    "# for i in range(10):\n",
    "#     print(f\"Расстояние: {distances[i][0]}, Другие данные: {distances[i][1]}\")\n",
    "\n",
    "# Закрытие соединения с базой данных\n",
    "conn.close()"
   ]
  },
  {
   "cell_type": "code",
   "execution_count": 57,
   "id": "a97d3f66",
   "metadata": {},
   "outputs": [],
   "source": [
    "number_sent = 2\n",
    "out = []\n",
    "ids = []\n",
    "for i in range(number_sent):\n",
    "    out.append(distances[i][3])\n",
    "    ids.append(distances[i][2])"
   ]
  },
  {
   "cell_type": "code",
   "execution_count": 58,
   "id": "9e8b32ee",
   "metadata": {},
   "outputs": [
    {
     "data": {
      "text/plain": [
       "[1, 49]"
      ]
     },
     "execution_count": 58,
     "metadata": {},
     "output_type": "execute_result"
    }
   ],
   "source": [
    "ids"
   ]
  },
  {
   "cell_type": "code",
   "execution_count": 44,
   "id": "aad892ce",
   "metadata": {},
   "outputs": [],
   "source": [
    "out = []\n",
    "for i in range(10):\n",
    "    out.append(distances[i][2])"
   ]
  },
  {
   "cell_type": "code",
   "execution_count": 45,
   "id": "c3d60261",
   "metadata": {},
   "outputs": [
    {
     "data": {
      "text/plain": [
       "[1, 49, 4, 26, 39, 22, 29, 50, 48, 51]"
      ]
     },
     "execution_count": 45,
     "metadata": {},
     "output_type": "execute_result"
    }
   ],
   "source": [
    "out"
   ]
  },
  {
   "cell_type": "code",
   "execution_count": null,
   "id": "a28990d8",
   "metadata": {},
   "outputs": [],
   "source": [
    "После создания базы данных, вы можете использовать ее внутри Docker контейнера. Для этого вам нужно создать Dockerfile, который будет содержать инструкции для создания контейнера. Вот пример Dockerfile:\n",
    "\n",
    "```Dockerfile\n",
    "FROM python:3.9\n",
    "\n",
    "# Копирование файлов в контейнер\n",
    "COPY database.db /app/database.db\n",
    "COPY script.py /app/script.py\n",
    "COPY data.csv /app/data.csv\n",
    "\n",
    "# Установка зависимостей\n",
    "RUN pip install sqlite3\n",
    "\n",
    "# Запуск скрипта при запуске контейнера\n",
    "CMD python /app/script.py\n",
    "```\n",
    "\n",
    "Затем, вы можете собрать Docker образ и запустить контейнер с помощью следующих команд:\n",
    "\n",
    "```\n",
    "docker build -t my_app .\n",
    "docker run my_app\n",
    "```\n",
    "\n",
    "При этом, файлы `database.db`, `script.py` и `data.csv` должны находиться в той же директории, где находится Dockerfile."
   ]
  }
 ],
 "metadata": {
  "kernelspec": {
   "display_name": "Python 3 (ipykernel)",
   "language": "python",
   "name": "python3"
  },
  "language_info": {
   "codemirror_mode": {
    "name": "ipython",
    "version": 3
   },
   "file_extension": ".py",
   "mimetype": "text/x-python",
   "name": "python",
   "nbconvert_exporter": "python",
   "pygments_lexer": "ipython3",
   "version": "3.10.12"
  }
 },
 "nbformat": 4,
 "nbformat_minor": 5
}

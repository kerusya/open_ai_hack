{
 "cells": [
  {
   "cell_type": "code",
   "execution_count": 1,
   "id": "505fcc5a",
   "metadata": {},
   "outputs": [],
   "source": [
    "import sqlite3\n",
    "import pandas as pd\n",
    "import csv\n",
    "import numpy as np"
   ]
  },
  {
   "cell_type": "code",
   "execution_count": null,
   "id": "e0164062",
   "metadata": {},
   "outputs": [],
   "source": []
  },
  {
   "cell_type": "code",
   "execution_count": 11,
   "id": "5927b53c",
   "metadata": {},
   "outputs": [],
   "source": [
    "conn = sqlite3.connect('fin_db2.db')\n",
    "cursor = conn.cursor()\n"
   ]
  },
  {
   "cell_type": "code",
   "execution_count": null,
   "id": "7e1ac9cd",
   "metadata": {},
   "outputs": [],
   "source": []
  },
  {
   "cell_type": "code",
   "execution_count": 12,
   "id": "405c2035",
   "metadata": {},
   "outputs": [
    {
     "data": {
      "text/plain": [
       "<sqlite3.Cursor at 0x11f26dbc0>"
      ]
     },
     "execution_count": 12,
     "metadata": {},
     "output_type": "execute_result"
    }
   ],
   "source": [
    "cursor.execute('''CREATE TABLE IF NOT EXISTS fin_db2 (\n",
    "                    id INTEGER,\n",
    "                    text TEXT,\n",
    "                    embeding INTEGER\n",
    "                )''')"
   ]
  },
  {
   "cell_type": "code",
   "execution_count": 13,
   "id": "4f8fe694",
   "metadata": {},
   "outputs": [],
   "source": [
    "df = pd.read_excel('../../igor_bd.xlsx', names = ['Sentences', 'Embbeding'])"
   ]
  },
  {
   "cell_type": "code",
   "execution_count": 14,
   "id": "f358f6d2",
   "metadata": {},
   "outputs": [],
   "source": [
    "df['index'] = df.index + 1"
   ]
  },
  {
   "cell_type": "code",
   "execution_count": 15,
   "id": "c0431688",
   "metadata": {},
   "outputs": [],
   "source": [
    "df[['index','Embbeding', 'Sentences']].to_csv('out1.csv', index = False)"
   ]
  },
  {
   "cell_type": "code",
   "execution_count": 16,
   "id": "4770ad28",
   "metadata": {},
   "outputs": [],
   "source": [
    "with open('out1.csv', 'r') as file:\n",
    "    csv_data = csv.reader(file)\n",
    "    next(csv_data)  # Пропуск заголовков столбцов\n",
    "    cursor.executemany('INSERT INTO fin_db2 VALUES (?, ?, ?)', csv_data)"
   ]
  },
  {
   "cell_type": "code",
   "execution_count": 17,
   "id": "dff55036",
   "metadata": {},
   "outputs": [
    {
     "data": {
      "text/html": [
       "<div>\n",
       "<style scoped>\n",
       "    .dataframe tbody tr th:only-of-type {\n",
       "        vertical-align: middle;\n",
       "    }\n",
       "\n",
       "    .dataframe tbody tr th {\n",
       "        vertical-align: top;\n",
       "    }\n",
       "\n",
       "    .dataframe thead th {\n",
       "        text-align: right;\n",
       "    }\n",
       "</style>\n",
       "<table border=\"1\" class=\"dataframe\">\n",
       "  <thead>\n",
       "    <tr style=\"text-align: right;\">\n",
       "      <th></th>\n",
       "      <th>index</th>\n",
       "      <th>Embbeding</th>\n",
       "      <th>Sentences</th>\n",
       "    </tr>\n",
       "  </thead>\n",
       "  <tbody>\n",
       "    <tr>\n",
       "      <th>0</th>\n",
       "      <td>1</td>\n",
       "      <td>0.05866908,-0.055919643,0.028513093,0.00883587...</td>\n",
       "      <td>Область применения Настоящая Политика определя...</td>\n",
       "    </tr>\n",
       "    <tr>\n",
       "      <th>1</th>\n",
       "      <td>2</td>\n",
       "      <td>0.04113537,-0.09494297,-0.020927062,0.03347726...</td>\n",
       "      <td>Физические лица, с которыми заключен договор г...</td>\n",
       "    </tr>\n",
       "    <tr>\n",
       "      <th>2</th>\n",
       "      <td>3</td>\n",
       "      <td>0.0520625,-0.031804126,-0.0013829818,0.0305636...</td>\n",
       "      <td>Настоящая Политика обязательна к ознакомлению ...</td>\n",
       "    </tr>\n",
       "    <tr>\n",
       "      <th>3</th>\n",
       "      <td>4</td>\n",
       "      <td>0.0671922,-0.028048074,-0.0023852815,0.0003226...</td>\n",
       "      <td>Недопущение и предупреждение ситуаций, когда д...</td>\n",
       "    </tr>\n",
       "    <tr>\n",
       "      <th>4</th>\n",
       "      <td>5</td>\n",
       "      <td>0.03956517,-0.06380333,0.022312013,0.026933933...</td>\n",
       "      <td>Определение обязательных для соблюдения Банком...</td>\n",
       "    </tr>\n",
       "    <tr>\n",
       "      <th>...</th>\n",
       "      <td>...</td>\n",
       "      <td>...</td>\n",
       "      <td>...</td>\n",
       "    </tr>\n",
       "    <tr>\n",
       "      <th>208</th>\n",
       "      <td>209</td>\n",
       "      <td>0.0012677034,-0.08318724,-0.07216746,0.0066744...</td>\n",
       "      <td>Если имеющихся у Банка денежных средств недост...</td>\n",
       "    </tr>\n",
       "    <tr>\n",
       "      <th>209</th>\n",
       "      <td>210</td>\n",
       "      <td>0.019662531,-0.099769615,-0.07005769,0.0257089...</td>\n",
       "      <td>После завершения расчетов с кредиторами ликвид...</td>\n",
       "    </tr>\n",
       "    <tr>\n",
       "      <th>210</th>\n",
       "      <td>211</td>\n",
       "      <td>0.077003926,-0.079033636,-0.068083644,0.023692...</td>\n",
       "      <td>18.5. Ликвидация считается завершенной, а Банк...</td>\n",
       "    </tr>\n",
       "    <tr>\n",
       "      <th>211</th>\n",
       "      <td>212</td>\n",
       "      <td>0.029698445,-0.05572576,-0.061276782,0.0276058...</td>\n",
       "      <td>Передача документов осуществляется за счет Бан...</td>\n",
       "    </tr>\n",
       "    <tr>\n",
       "      <th>212</th>\n",
       "      <td>213</td>\n",
       "      <td>0.10297509,-0.043780044,-0.07792669,0.04396994...</td>\n",
       "      <td>1. Все изменения и дополнения, вносимые в уста...</td>\n",
       "    </tr>\n",
       "  </tbody>\n",
       "</table>\n",
       "<p>213 rows × 3 columns</p>\n",
       "</div>"
      ],
      "text/plain": [
       "     index                                          Embbeding  \\\n",
       "0        1  0.05866908,-0.055919643,0.028513093,0.00883587...   \n",
       "1        2  0.04113537,-0.09494297,-0.020927062,0.03347726...   \n",
       "2        3  0.0520625,-0.031804126,-0.0013829818,0.0305636...   \n",
       "3        4  0.0671922,-0.028048074,-0.0023852815,0.0003226...   \n",
       "4        5  0.03956517,-0.06380333,0.022312013,0.026933933...   \n",
       "..     ...                                                ...   \n",
       "208    209  0.0012677034,-0.08318724,-0.07216746,0.0066744...   \n",
       "209    210  0.019662531,-0.099769615,-0.07005769,0.0257089...   \n",
       "210    211  0.077003926,-0.079033636,-0.068083644,0.023692...   \n",
       "211    212  0.029698445,-0.05572576,-0.061276782,0.0276058...   \n",
       "212    213  0.10297509,-0.043780044,-0.07792669,0.04396994...   \n",
       "\n",
       "                                             Sentences  \n",
       "0    Область применения Настоящая Политика определя...  \n",
       "1    Физические лица, с которыми заключен договор г...  \n",
       "2    Настоящая Политика обязательна к ознакомлению ...  \n",
       "3    Недопущение и предупреждение ситуаций, когда д...  \n",
       "4    Определение обязательных для соблюдения Банком...  \n",
       "..                                                 ...  \n",
       "208  Если имеющихся у Банка денежных средств недост...  \n",
       "209  После завершения расчетов с кредиторами ликвид...  \n",
       "210  18.5. Ликвидация считается завершенной, а Банк...  \n",
       "211  Передача документов осуществляется за счет Бан...  \n",
       "212  1. Все изменения и дополнения, вносимые в уста...  \n",
       "\n",
       "[213 rows x 3 columns]"
      ]
     },
     "execution_count": 17,
     "metadata": {},
     "output_type": "execute_result"
    }
   ],
   "source": [
    "pd.read_csv('out1.csv')"
   ]
  },
  {
   "cell_type": "code",
   "execution_count": 18,
   "id": "5c8dc0a1",
   "metadata": {},
   "outputs": [],
   "source": [
    "conn.commit()\n",
    "conn.close()"
   ]
  },
  {
   "cell_type": "code",
   "execution_count": 19,
   "id": "0a9c018f",
   "metadata": {},
   "outputs": [],
   "source": [
    "conn = sqlite3.connect('fin_db2.db')\n",
    "cursor = conn.cursor()"
   ]
  },
  {
   "cell_type": "code",
   "execution_count": 23,
   "id": "a67b9dc9",
   "metadata": {},
   "outputs": [],
   "source": [
    "cursor.execute(\"SELECT * FROM fin_db2\")\n",
    "rows = cursor.fetchall()"
   ]
  },
  {
   "cell_type": "code",
   "execution_count": 26,
   "id": "50a9909c",
   "metadata": {},
   "outputs": [
    {
     "data": {
      "text/plain": [
       "'Область применения Настоящая Политика определяет основные цели и задачи управления конфликтом интересов в Банке, ключевые принципы и меры по минимизации риска конфликта интересов (в том числе порядок предотвращения конфликтов интересов) и соблюдения норм применимого законодательства. Политика является частью системы управления комплаенс-риском, создана для эффективного управления риском возникновения конфликта интересов в Банке и обязательна к выполнению всеми Работниками Банка.'"
      ]
     },
     "execution_count": 26,
     "metadata": {},
     "output_type": "execute_result"
    }
   ],
   "source": [
    "rows[0][2]"
   ]
  },
  {
   "cell_type": "code",
   "execution_count": 39,
   "id": "c95b01a5",
   "metadata": {},
   "outputs": [],
   "source": [
    "input_vector = [float(x) for x in rows[0][1].split(',')]"
   ]
  },
  {
   "cell_type": "code",
   "execution_count": 40,
   "id": "ef47fc99",
   "metadata": {},
   "outputs": [],
   "source": [
    "# vectors = [np.frombuffer(vector[0]) for vector in vectors]"
   ]
  },
  {
   "cell_type": "code",
   "execution_count": 41,
   "id": "7fa5ed39",
   "metadata": {},
   "outputs": [],
   "source": [
    "from scipy.spatial.distance import cosine"
   ]
  },
  {
   "cell_type": "code",
   "execution_count": 50,
   "id": "e00c3fdc",
   "metadata": {},
   "outputs": [],
   "source": [
    "# Расчет косинусного расстояния и сохранение результатов\n",
    "distances = []\n",
    "for row in rows:\n",
    "    vector = [float(x) for x in row[1].split(',')]\n",
    "    distance = cosine(input_vector, vector)\n",
    "    distances.append((distance, row[1], row[0],row[2]))  # Замените на соответствующий столбец с другими данными\n",
    "\n",
    "# Сортировка результатов по возрастанию расстояния\n",
    "distances.sort(key=lambda x: x[0])\n",
    "\n",
    "# Вывод 10 самых близких расстояний и соответствующих данных\n",
    "# for i in range(10):\n",
    "#     print(f\"Расстояние: {distances[i][0]}, Другие данные: {distances[i][1]}\")\n",
    "\n",
    "# Закрытие соединения с базой данных\n",
    "conn.close()"
   ]
  },
  {
   "cell_type": "code",
   "execution_count": 57,
   "id": "febbb9cb",
   "metadata": {},
   "outputs": [],
   "source": [
    "number_sent = 2\n",
    "out = []\n",
    "ids = []\n",
    "for i in range(number_sent):\n",
    "    out.append(distances[i][3])\n",
    "    ids.append(distances[i][2])"
   ]
  },
  {
   "cell_type": "code",
   "execution_count": 58,
   "id": "b6f2cf2b",
   "metadata": {},
   "outputs": [
    {
     "data": {
      "text/plain": [
       "[1, 49]"
      ]
     },
     "execution_count": 58,
     "metadata": {},
     "output_type": "execute_result"
    }
   ],
   "source": [
    "ids"
   ]
  },
  {
   "cell_type": "code",
   "execution_count": 44,
   "id": "aad892ce",
   "metadata": {},
   "outputs": [],
   "source": [
    "out = []\n",
    "for i in range(10):\n",
    "    out.append(distances[i][2])"
   ]
  },
  {
   "cell_type": "code",
   "execution_count": 45,
   "id": "b0e7f39e",
   "metadata": {},
   "outputs": [
    {
     "data": {
      "text/plain": [
       "[1, 49, 4, 26, 39, 22, 29, 50, 48, 51]"
      ]
     },
     "execution_count": 45,
     "metadata": {},
     "output_type": "execute_result"
    }
   ],
   "source": [
    "out"
   ]
  },
  {
   "cell_type": "code",
   "execution_count": null,
   "id": "a28990d8",
   "metadata": {},
   "outputs": [],
   "source": [
    "После создания базы данных, вы можете использовать ее внутри Docker контейнера. Для этого вам нужно создать Dockerfile, который будет содержать инструкции для создания контейнера. Вот пример Dockerfile:\n",
    "\n",
    "```Dockerfile\n",
    "FROM python:3.9\n",
    "\n",
    "# Копирование файлов в контейнер\n",
    "COPY database.db /app/database.db\n",
    "COPY script.py /app/script.py\n",
    "COPY data.csv /app/data.csv\n",
    "\n",
    "# Установка зависимостей\n",
    "RUN pip install sqlite3\n",
    "\n",
    "# Запуск скрипта при запуске контейнера\n",
    "CMD python /app/script.py\n",
    "```\n",
    "\n",
    "Затем, вы можете собрать Docker образ и запустить контейнер с помощью следующих команд:\n",
    "\n",
    "```\n",
    "docker build -t my_app .\n",
    "docker run my_app\n",
    "```\n",
    "\n",
    "При этом, файлы `database.db`, `script.py` и `data.csv` должны находиться в той же директории, где находится Dockerfile."
   ]
  },
  {
   "cell_type": "code",
   "execution_count": 64,
   "id": "07e5c28e",
   "metadata": {},
   "outputs": [],
   "source": [
    "s = 'erfghjkjhgfde.asdfghmjretwgfhertw.ewqrtfgnmhrtewgfhret3452regfhrt435.q4werdghfertwrgfdert342ew.rsdfsdfsdf'\n",
    "n = 10\n",
    "a = []\n",
    "cnt = 0\n",
    "cur = ''\n",
    "for i in s:\n",
    "    cur += i\n",
    "    if cnt>n and i == '.':\n",
    "        a.append(cur)\n",
    "        cur = ''\n",
    "        cnt = 0\n",
    "    else:\n",
    "        cnt+=1\n",
    "    "
   ]
  },
  {
   "cell_type": "code",
   "execution_count": 65,
   "id": "453540d5",
   "metadata": {},
   "outputs": [
    {
     "data": {
      "text/plain": [
       "['erfghjkjhgfde.',\n",
       " 'asdfghmjretwgfhertw.',\n",
       " 'ewqrtfgnmhrtewgfhret3452regfhrt435.',\n",
       " 'q4werdghfertwrgfdert342ew.']"
      ]
     },
     "execution_count": 65,
     "metadata": {},
     "output_type": "execute_result"
    }
   ],
   "source": [
    "a"
   ]
  },
  {
   "cell_type": "code",
   "execution_count": null,
   "id": "d4baa015",
   "metadata": {},
   "outputs": [],
   "source": []
  }
 ],
 "metadata": {
  "kernelspec": {
   "display_name": "Python 3 (ipykernel)",
   "language": "python",
   "name": "python3"
  },
  "language_info": {
   "codemirror_mode": {
    "name": "ipython",
    "version": 3
   },
   "file_extension": ".py",
   "mimetype": "text/x-python",
   "name": "python",
   "nbconvert_exporter": "python",
   "pygments_lexer": "ipython3",
   "version": "3.10.12"
  }
 },
 "nbformat": 4,
 "nbformat_minor": 5
}
